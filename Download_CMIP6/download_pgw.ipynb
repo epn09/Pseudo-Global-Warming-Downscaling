{
 "cells": [
  {
   "cell_type": "markdown",
   "id": "ef359dca-3cbc-4051-b38b-1b8d489decfd",
   "metadata": {},
   "source": [
    "# This script is to download CMIP6 data using intake-esm library\n",
    "\n",
    "Read more from link\n",
    "\n",
    "https://intake-esm.readthedocs.io/en/stable/tutorials/loading-cmip6-data.html\n",
    "\n",
    "How to use intake to download GCM\n"
   ]
  },
  {
   "cell_type": "code",
   "execution_count": 12,
   "id": "c63679b9-8aa5-40ec-af02-1d86452529ae",
   "metadata": {},
   "outputs": [],
   "source": [
    "import os\n",
    "import re\n",
    "from typing import Iterable\n",
    "\n",
    "import intake"
   ]
  },
  {
   "cell_type": "code",
   "execution_count": 17,
   "id": "862884b6-92db-4a09-b358-a9f4fb2afae7",
   "metadata": {},
   "outputs": [],
   "source": [
    "# Information of all CMIP6 files that one can download from intake esm data store\n",
    "url = \"https://raw.githubusercontent.com/NCAR/intake-esm-datastore/master/catalogs/pangeo-cmip6.json\"\n",
    "# open the catalog\n",
    "data_source = intake.open_esm_datastore(url)\n",
    "# dataframe.df.columns\n",
    "# df = dataframe.df"
   ]
  },
  {
   "cell_type": "code",
   "execution_count": 13,
   "id": "5e798a33-6051-4272-9740-1bd26304c349",
   "metadata": {},
   "outputs": [],
   "source": [
    "def natural_sort(l: Iterable[str]) -> list[str]:\n",
    "    \"\"\"\n",
    "    Sort names like r1i1p1f1, r1i2p1f1 in a natural (numeric) order.\n",
    "    - r1: Realization (initial condition run),\n",
    "    - i1: Initialization method,\n",
    "    - p1: Physical parameters,\n",
    "    - f1: External forcings.\n",
    "\n",
    "    Numeric order means that r1i1p1f1 < r2i1p1f1 < r11i1p1f1.\n",
    "\n",
    "    :param l: list of names to be sorted\n",
    "    \"\"\"\n",
    "\n",
    "    convert = lambda text: int(text) if text.isdigit() else text.lower()\n",
    "    alphanum_key = lambda key: [convert(c) for c in re.split(\"([0-9]+)\", key)]\n",
    "    return sorted(l, key=alphanum_key)"
   ]
  },
  {
   "cell_type": "code",
   "execution_count": 18,
   "id": "93778d6c-7b0a-4806-b84c-3b3b39c4fad8",
   "metadata": {},
   "outputs": [
    {
     "name": "stdout",
     "output_type": "stream",
     "text": [
      "tas historical EC-Earth3 73\n",
      "r1i1p1f1\n",
      "Download\n",
      "\n",
      "--> The keys in the returned dictionary of datasets are constructed as follows:\n",
      "\t'activity_id.institution_id.source_id.experiment_id.table_id.grid_label'\n",
      "fail\n"
     ]
    }
   ],
   "source": [
    "def download_files(data_source, sid: str, exp: str, var: str):\n",
    "    \"\"\"\n",
    "    Download files from the CMIP6 data store\n",
    "\n",
    "    :param data_source: intake esm data store\n",
    "    :param sid: source_id\n",
    "    :param exp: experiment_id\n",
    "    :param var: variable_id\n",
    "    \"\"\"\n",
    "\n",
    "    models = data_source.search(\n",
    "        experiment_id=exp,\n",
    "        table_id=\"Amon\",\n",
    "        variable_id=var,\n",
    "        source_id=sid,\n",
    "    )\n",
    "    # then one might get several files with the same conditions\n",
    "    # r1: Realization (initial condition run)\n",
    "    # i1: Initialization method\n",
    "    # p1: Physical parameters\n",
    "    # f1: External forcings\n",
    "\n",
    "    print(var, exp, sid, len(models.df))\n",
    "\n",
    "    # if no files exist then print out error\n",
    "    if len(models.df) == 0:\n",
    "        print(\"*** \\n Error \\n\")\n",
    "\n",
    "    # sort the possible files\n",
    "    ml = natural_sort(models.df.member_id.values)\n",
    "\n",
    "    # get the first one only then seach again\n",
    "    mem = ml[0]\n",
    "    model_s = data_source.search(\n",
    "        experiment_id=exp,\n",
    "        table_id=\"Amon\",\n",
    "        variable_id=var,\n",
    "        source_id=sid,\n",
    "        member_id=mem,\n",
    "    )\n",
    "\n",
    "    # if no files exist then print out error\n",
    "    if len(model_s.df) == 0:\n",
    "        print(\"*** \\n Error \\n\")\n",
    "\n",
    "    print(mem)\n",
    "\n",
    "    print(\"Download\")\n",
    "\n",
    "    try:\n",
    "        datasets = model_s.to_dataset_dict(\n",
    "            zarr_kwargs={\"consolidated\": True, \"decode_times\": True, \"use_cftime\": True}\n",
    "        )\n",
    "        # datasets = models.to_dataset_dict(xarray_open_kwargs={\"consolidated\": True, \"decode_times\": True, \"use_cftime\": True})\n",
    "\n",
    "        for k, v in datasets.items():\n",
    "            odir = \"Download/\" + sid + \"/\" + exp + \"/\"\n",
    "            if not os.path.exists(odir):\n",
    "                os.makedirs(odir)\n",
    "            ofile = odir + var + \"_\" + k + \"_\" + mem + \".nc\"\n",
    "            print(\"write to \", ofile)\n",
    "            v.to_netcdf(ofile)\n",
    "    except:\n",
    "        print(\"fail\")\n",
    "\n",
    "\n",
    "def download_data():\n",
    "    for sid in [\n",
    "        \"EC-Earth3\",\n",
    "        \"MIROC6\",\n",
    "        \"MRI-ESM2-0\",\n",
    "        \"ACCESS-CM2\",\n",
    "        \"IPSL-CM6A-LR\",\n",
    "        \"MPI-ESM1-2-HR\",\n",
    "    ]:\n",
    "        for exp in [\"historical\", \"ssp585\", \"ssp126\", \"ssp370\", \"ssp245\"]:\n",
    "            for var in [\"tas\", \"ta\", \"ua\", \"va\", \"hur\", \"zg\", \"ts\"]:\n",
    "                download_files(data_source, sid, exp, var)\n",
    "                return"
   ]
  },
  {
   "cell_type": "code",
   "execution_count": null,
   "id": "9a66bc9b",
   "metadata": {},
   "outputs": [],
   "source": []
  }
 ],
 "metadata": {
  "kernelspec": {
   "display_name": "Python 3 (ipykernel)",
   "language": "python",
   "name": "python3"
  },
  "language_info": {
   "codemirror_mode": {
    "name": "ipython",
    "version": 3
   },
   "file_extension": ".py",
   "mimetype": "text/x-python",
   "name": "python",
   "nbconvert_exporter": "python",
   "pygments_lexer": "ipython3",
   "version": "3.12.5"
  }
 },
 "nbformat": 4,
 "nbformat_minor": 5
}
